{
  "nbformat": 4,
  "nbformat_minor": 0,
  "metadata": {
    "colab": {
      "name": "Copy of BootCamp_Guide.ipynb",
      "provenance": [],
      "collapsed_sections": [],
      "include_colab_link": true
    },
    "kernelspec": {
      "name": "python3",
      "display_name": "Python 3"
    },
    "language_info": {
      "name": "python"
    }
  },
  "cells": [
    {
      "cell_type": "markdown",
      "metadata": {
        "id": "view-in-github",
        "colab_type": "text"
      },
      "source": [
        "<a href=\"https://colab.research.google.com/github/dev-tyta/HDSC-2-Assignment/blob/main/Copy_of_BootCamp_Guide.ipynb\" target=\"_parent\"><img src=\"https://colab.research.google.com/assets/colab-badge.svg\" alt=\"Open In Colab\"/></a>"
      ]
    },
    {
      "cell_type": "code",
      "metadata": {
        "id": "2yro9IlqRz-F"
      },
      "source": [
        "%%capture\n",
        "!pip install catboost category-encoders"
      ],
      "execution_count": null,
      "outputs": []
    },
    {
      "cell_type": "code",
      "metadata": {
        "id": "F02BZ6e7SFDY",
        "colab": {
          "base_uri": "https://localhost:8080/"
        },
        "outputId": "b0a40cf8-b8e2-4b7f-8df1-55ce128a6a9f"
      },
      "source": [
        "## Importing required libraries\n",
        "import pandas as pd #for data preprocessing\n",
        "\n",
        "#Data Visualization Libraries\n",
        "import seaborn as sns\n",
        "import matplotlib.pyplot as plt\n",
        "\n",
        "#Linear Algebra\n",
        "import numpy as np\n",
        " \n",
        "#Import Datetime module\n",
        "from datetime import datetime\n",
        "\n",
        "from sklearn.model_selection import StratifiedKFold,GridSearchCV,RandomizedSearchCV, train_test_split#For splitting\n",
        "from category_encoders import TargetEncoder\n",
        "#Evaluation Metrics\n",
        "from sklearn.metrics import accuracy_score, f1_score, roc_auc_score\n",
        "\n",
        "#To ignore unnecessary warnings\n",
        "import warnings\n",
        "\n",
        "from sklearn.preprocessing import LabelEncoder,OneHotEncoder # for encoding categorical variables\n",
        "from sklearn.pipeline import Pipeline"
      ],
      "execution_count": null,
      "outputs": [
        {
          "output_type": "stream",
          "name": "stderr",
          "text": [
            "/usr/local/lib/python3.7/dist-packages/statsmodels/tools/_testing.py:19: FutureWarning: pandas.util.testing is deprecated. Use the functions in the public API at pandas.testing instead.\n",
            "  import pandas.util.testing as tm\n"
          ]
        }
      ]
    },
    {
      "cell_type": "code",
      "metadata": {
        "id": "qJaELkvaSNpi"
      },
      "source": [
        "warnings.filterwarnings(\"ignore\")"
      ],
      "execution_count": null,
      "outputs": []
    },
    {
      "cell_type": "code",
      "metadata": {
        "id": "kbLiytQXSQ46"
      },
      "source": [
        "#For Notebook Locally\n",
        "train = pd.read_csv('Train.csv')\n",
        "test = pd.read_csv('Test.csv')"
      ],
      "execution_count": null,
      "outputs": []
    },
    {
      "cell_type": "code",
      "metadata": {
        "id": "UELwP_7WSVIY"
      },
      "source": [
        "#Drop ID from train and test\n",
        "train.drop('ID', axis=1, inplace=True)\n",
        "test.drop('ID', axis=1, inplace=True)"
      ],
      "execution_count": null,
      "outputs": []
    },
    {
      "cell_type": "code",
      "metadata": {
        "colab": {
          "base_uri": "https://localhost:8080/",
          "height": 317
        },
        "id": "SPAef1Par4JP",
        "outputId": "512dc452-f62c-4814-9049-022ba0bd062f"
      },
      "source": [
        "train.describe()"
      ],
      "execution_count": null,
      "outputs": [
        {
          "output_type": "execute_result",
          "data": {
            "text/html": [
              "<div>\n",
              "<style scoped>\n",
              "    .dataframe tbody tr th:only-of-type {\n",
              "        vertical-align: middle;\n",
              "    }\n",
              "\n",
              "    .dataframe tbody tr th {\n",
              "        vertical-align: top;\n",
              "    }\n",
              "\n",
              "    .dataframe thead th {\n",
              "        text-align: right;\n",
              "    }\n",
              "</style>\n",
              "<table border=\"1\" class=\"dataframe\">\n",
              "  <thead>\n",
              "    <tr style=\"text-align: right;\">\n",
              "      <th></th>\n",
              "      <th>Year_of_Birth</th>\n",
              "      <th>Disposable_Income</th>\n",
              "      <th>No_of_Kids_in_home</th>\n",
              "      <th>No_of_Teen_in_home</th>\n",
              "      <th>Recency</th>\n",
              "      <th>Discounted_Purchases</th>\n",
              "      <th>WebPurchases</th>\n",
              "      <th>CatalogPurchases</th>\n",
              "      <th>StorePurchases</th>\n",
              "      <th>Amount_on_Wines</th>\n",
              "      <th>Amount_on_Fruits</th>\n",
              "      <th>Amount_on_MeatProducts</th>\n",
              "      <th>Amount_on_FishProducts</th>\n",
              "      <th>Amount_on_SweetProducts</th>\n",
              "      <th>Amount_on_GoldProds</th>\n",
              "      <th>WebVisitsMonth</th>\n",
              "      <th>Cmp3Accepted</th>\n",
              "      <th>Cmp4Accepted</th>\n",
              "      <th>Cmp5Accepted</th>\n",
              "      <th>Cmp1Accepted</th>\n",
              "      <th>Cmp2Accepted</th>\n",
              "      <th>Any_Complain</th>\n",
              "      <th>Response</th>\n",
              "    </tr>\n",
              "  </thead>\n",
              "  <tbody>\n",
              "    <tr>\n",
              "      <th>count</th>\n",
              "      <td>1568.000000</td>\n",
              "      <td>1552.000000</td>\n",
              "      <td>1568.000000</td>\n",
              "      <td>1568.000000</td>\n",
              "      <td>1568.000000</td>\n",
              "      <td>1568.000000</td>\n",
              "      <td>1568.000000</td>\n",
              "      <td>1568.000000</td>\n",
              "      <td>1568.000000</td>\n",
              "      <td>1568.000000</td>\n",
              "      <td>1568.000000</td>\n",
              "      <td>1568.000000</td>\n",
              "      <td>1568.000000</td>\n",
              "      <td>1568.000000</td>\n",
              "      <td>1568.000000</td>\n",
              "      <td>1568.000000</td>\n",
              "      <td>1568.000000</td>\n",
              "      <td>1568.000000</td>\n",
              "      <td>1568.000000</td>\n",
              "      <td>1568.000000</td>\n",
              "      <td>1568.000000</td>\n",
              "      <td>1568.000000</td>\n",
              "      <td>1568.000000</td>\n",
              "    </tr>\n",
              "    <tr>\n",
              "      <th>mean</th>\n",
              "      <td>1970.073342</td>\n",
              "      <td>62381.186598</td>\n",
              "      <td>0.460459</td>\n",
              "      <td>0.497449</td>\n",
              "      <td>55.408801</td>\n",
              "      <td>2.292730</td>\n",
              "      <td>4.001276</td>\n",
              "      <td>2.665816</td>\n",
              "      <td>5.703444</td>\n",
              "      <td>303.190051</td>\n",
              "      <td>29.091199</td>\n",
              "      <td>168.376276</td>\n",
              "      <td>37.166454</td>\n",
              "      <td>26.800383</td>\n",
              "      <td>43.739158</td>\n",
              "      <td>5.326531</td>\n",
              "      <td>0.072704</td>\n",
              "      <td>0.072704</td>\n",
              "      <td>0.080357</td>\n",
              "      <td>0.064413</td>\n",
              "      <td>0.012755</td>\n",
              "      <td>0.008291</td>\n",
              "      <td>0.152423</td>\n",
              "    </tr>\n",
              "    <tr>\n",
              "      <th>std</th>\n",
              "      <td>11.920781</td>\n",
              "      <td>32089.169563</td>\n",
              "      <td>0.540361</td>\n",
              "      <td>0.544151</td>\n",
              "      <td>28.788037</td>\n",
              "      <td>1.937544</td>\n",
              "      <td>2.773748</td>\n",
              "      <td>3.043493</td>\n",
              "      <td>3.260553</td>\n",
              "      <td>340.141396</td>\n",
              "      <td>39.565637</td>\n",
              "      <td>233.419980</td>\n",
              "      <td>53.994951</td>\n",
              "      <td>40.857657</td>\n",
              "      <td>51.591557</td>\n",
              "      <td>2.468023</td>\n",
              "      <td>0.259733</td>\n",
              "      <td>0.259733</td>\n",
              "      <td>0.271932</td>\n",
              "      <td>0.245566</td>\n",
              "      <td>0.112252</td>\n",
              "      <td>0.090705</td>\n",
              "      <td>0.359546</td>\n",
              "    </tr>\n",
              "    <tr>\n",
              "      <th>min</th>\n",
              "      <td>1900.000000</td>\n",
              "      <td>2076.000000</td>\n",
              "      <td>0.000000</td>\n",
              "      <td>0.000000</td>\n",
              "      <td>7.000000</td>\n",
              "      <td>0.000000</td>\n",
              "      <td>0.000000</td>\n",
              "      <td>0.000000</td>\n",
              "      <td>0.000000</td>\n",
              "      <td>5.000000</td>\n",
              "      <td>3.000000</td>\n",
              "      <td>0.000000</td>\n",
              "      <td>0.000000</td>\n",
              "      <td>0.000000</td>\n",
              "      <td>0.000000</td>\n",
              "      <td>0.000000</td>\n",
              "      <td>0.000000</td>\n",
              "      <td>0.000000</td>\n",
              "      <td>0.000000</td>\n",
              "      <td>0.000000</td>\n",
              "      <td>0.000000</td>\n",
              "      <td>0.000000</td>\n",
              "      <td>0.000000</td>\n",
              "    </tr>\n",
              "    <tr>\n",
              "      <th>25%</th>\n",
              "      <td>1960.000000</td>\n",
              "      <td>41612.400000</td>\n",
              "      <td>0.000000</td>\n",
              "      <td>0.000000</td>\n",
              "      <td>31.000000</td>\n",
              "      <td>1.000000</td>\n",
              "      <td>2.000000</td>\n",
              "      <td>0.000000</td>\n",
              "      <td>3.000000</td>\n",
              "      <td>27.000000</td>\n",
              "      <td>4.000000</td>\n",
              "      <td>15.000000</td>\n",
              "      <td>3.000000</td>\n",
              "      <td>1.000000</td>\n",
              "      <td>8.000000</td>\n",
              "      <td>3.000000</td>\n",
              "      <td>0.000000</td>\n",
              "      <td>0.000000</td>\n",
              "      <td>0.000000</td>\n",
              "      <td>0.000000</td>\n",
              "      <td>0.000000</td>\n",
              "      <td>0.000000</td>\n",
              "      <td>0.000000</td>\n",
              "    </tr>\n",
              "    <tr>\n",
              "      <th>50%</th>\n",
              "      <td>1971.000000</td>\n",
              "      <td>60964.200000</td>\n",
              "      <td>0.000000</td>\n",
              "      <td>0.000000</td>\n",
              "      <td>56.000000</td>\n",
              "      <td>2.000000</td>\n",
              "      <td>3.000000</td>\n",
              "      <td>2.000000</td>\n",
              "      <td>5.000000</td>\n",
              "      <td>167.000000</td>\n",
              "      <td>11.000000</td>\n",
              "      <td>64.000000</td>\n",
              "      <td>12.000000</td>\n",
              "      <td>8.000000</td>\n",
              "      <td>25.000000</td>\n",
              "      <td>6.000000</td>\n",
              "      <td>0.000000</td>\n",
              "      <td>0.000000</td>\n",
              "      <td>0.000000</td>\n",
              "      <td>0.000000</td>\n",
              "      <td>0.000000</td>\n",
              "      <td>0.000000</td>\n",
              "      <td>0.000000</td>\n",
              "    </tr>\n",
              "    <tr>\n",
              "      <th>75%</th>\n",
              "      <td>1979.000000</td>\n",
              "      <td>81493.200000</td>\n",
              "      <td>1.000000</td>\n",
              "      <td>1.000000</td>\n",
              "      <td>80.000000</td>\n",
              "      <td>3.000000</td>\n",
              "      <td>6.000000</td>\n",
              "      <td>4.000000</td>\n",
              "      <td>8.000000</td>\n",
              "      <td>499.500000</td>\n",
              "      <td>36.000000</td>\n",
              "      <td>232.000000</td>\n",
              "      <td>49.250000</td>\n",
              "      <td>33.000000</td>\n",
              "      <td>56.000000</td>\n",
              "      <td>7.000000</td>\n",
              "      <td>0.000000</td>\n",
              "      <td>0.000000</td>\n",
              "      <td>0.000000</td>\n",
              "      <td>0.000000</td>\n",
              "      <td>0.000000</td>\n",
              "      <td>0.000000</td>\n",
              "      <td>0.000000</td>\n",
              "    </tr>\n",
              "    <tr>\n",
              "      <th>max</th>\n",
              "      <td>1997.000000</td>\n",
              "      <td>799999.200000</td>\n",
              "      <td>2.000000</td>\n",
              "      <td>2.000000</td>\n",
              "      <td>106.000000</td>\n",
              "      <td>15.000000</td>\n",
              "      <td>27.000000</td>\n",
              "      <td>28.000000</td>\n",
              "      <td>13.000000</td>\n",
              "      <td>1498.000000</td>\n",
              "      <td>202.000000</td>\n",
              "      <td>1725.000000</td>\n",
              "      <td>259.000000</td>\n",
              "      <td>263.000000</td>\n",
              "      <td>362.000000</td>\n",
              "      <td>20.000000</td>\n",
              "      <td>1.000000</td>\n",
              "      <td>1.000000</td>\n",
              "      <td>1.000000</td>\n",
              "      <td>1.000000</td>\n",
              "      <td>1.000000</td>\n",
              "      <td>1.000000</td>\n",
              "      <td>1.000000</td>\n",
              "    </tr>\n",
              "  </tbody>\n",
              "</table>\n",
              "</div>"
            ],
            "text/plain": [
              "       Year_of_Birth  Disposable_Income  ...  Any_Complain     Response\n",
              "count    1568.000000        1552.000000  ...   1568.000000  1568.000000\n",
              "mean     1970.073342       62381.186598  ...      0.008291     0.152423\n",
              "std        11.920781       32089.169563  ...      0.090705     0.359546\n",
              "min      1900.000000        2076.000000  ...      0.000000     0.000000\n",
              "25%      1960.000000       41612.400000  ...      0.000000     0.000000\n",
              "50%      1971.000000       60964.200000  ...      0.000000     0.000000\n",
              "75%      1979.000000       81493.200000  ...      0.000000     0.000000\n",
              "max      1997.000000      799999.200000  ...      1.000000     1.000000\n",
              "\n",
              "[8 rows x 23 columns]"
            ]
          },
          "metadata": {},
          "execution_count": 6
        }
      ]
    },
    {
      "cell_type": "code",
      "metadata": {
        "colab": {
          "base_uri": "https://localhost:8080/"
        },
        "id": "v8ahnOAVr3_Z",
        "outputId": "d6b7ff21-64ef-4c33-b072-95e82fc72379"
      },
      "source": [
        "train.info()"
      ],
      "execution_count": null,
      "outputs": [
        {
          "output_type": "stream",
          "name": "stdout",
          "text": [
            "<class 'pandas.core.frame.DataFrame'>\n",
            "RangeIndex: 1568 entries, 0 to 1567\n",
            "Data columns (total 26 columns):\n",
            " #   Column                   Non-Null Count  Dtype  \n",
            "---  ------                   --------------  -----  \n",
            " 0   Year_of_Birth            1568 non-null   int64  \n",
            " 1   Education_Level          1568 non-null   object \n",
            " 2   Marital_Status           1568 non-null   object \n",
            " 3   Disposable_Income        1552 non-null   float64\n",
            " 4   No_of_Kids_in_home       1568 non-null   int64  \n",
            " 5   No_of_Teen_in_home       1568 non-null   int64  \n",
            " 6   Date_Customer            1568 non-null   object \n",
            " 7   Recency                  1568 non-null   int64  \n",
            " 8   Discounted_Purchases     1568 non-null   int64  \n",
            " 9   WebPurchases             1568 non-null   int64  \n",
            " 10  CatalogPurchases         1568 non-null   int64  \n",
            " 11  StorePurchases           1568 non-null   int64  \n",
            " 12  Amount_on_Wines          1568 non-null   int64  \n",
            " 13  Amount_on_Fruits         1568 non-null   int64  \n",
            " 14  Amount_on_MeatProducts   1568 non-null   int64  \n",
            " 15  Amount_on_FishProducts   1568 non-null   int64  \n",
            " 16  Amount_on_SweetProducts  1568 non-null   int64  \n",
            " 17  Amount_on_GoldProds      1568 non-null   int64  \n",
            " 18  WebVisitsMonth           1568 non-null   int64  \n",
            " 19  Cmp3Accepted             1568 non-null   int64  \n",
            " 20  Cmp4Accepted             1568 non-null   int64  \n",
            " 21  Cmp5Accepted             1568 non-null   int64  \n",
            " 22  Cmp1Accepted             1568 non-null   int64  \n",
            " 23  Cmp2Accepted             1568 non-null   int64  \n",
            " 24  Any_Complain             1568 non-null   int64  \n",
            " 25  Response                 1568 non-null   int64  \n",
            "dtypes: float64(1), int64(22), object(3)\n",
            "memory usage: 318.6+ KB\n"
          ]
        }
      ]
    },
    {
      "cell_type": "code",
      "metadata": {
        "colab": {
          "base_uri": "https://localhost:8080/"
        },
        "id": "Vhms2YaCr37K",
        "outputId": "73d1733a-4362-47d3-a2da-52e15b61bbac"
      },
      "source": [
        "test.info()"
      ],
      "execution_count": null,
      "outputs": [
        {
          "output_type": "stream",
          "name": "stdout",
          "text": [
            "<class 'pandas.core.frame.DataFrame'>\n",
            "RangeIndex: 672 entries, 0 to 671\n",
            "Data columns (total 25 columns):\n",
            " #   Column                   Non-Null Count  Dtype  \n",
            "---  ------                   --------------  -----  \n",
            " 0   Year_of_Birth            672 non-null    int64  \n",
            " 1   Education_Level          672 non-null    object \n",
            " 2   Marital_Status           672 non-null    object \n",
            " 3   Disposable_Income        664 non-null    float64\n",
            " 4   No_of_Kids_in_home       672 non-null    int64  \n",
            " 5   No_of_Teen_in_home       672 non-null    int64  \n",
            " 6   Date_Customer            672 non-null    object \n",
            " 7   Recency                  672 non-null    int64  \n",
            " 8   Discounted_Purchases     672 non-null    int64  \n",
            " 9   WebPurchases             672 non-null    int64  \n",
            " 10  CatalogPurchases         672 non-null    int64  \n",
            " 11  StorePurchases           672 non-null    int64  \n",
            " 12  Amount_on_Wines          672 non-null    int64  \n",
            " 13  Amount_on_Fruits         672 non-null    int64  \n",
            " 14  Amount_on_MeatProducts   672 non-null    int64  \n",
            " 15  Amount_on_FishProducts   672 non-null    int64  \n",
            " 16  Amount_on_SweetProducts  672 non-null    int64  \n",
            " 17  Amount_on_GoldProds      672 non-null    int64  \n",
            " 18  WebVisitsMonth           672 non-null    int64  \n",
            " 19  Cmp3Accepted             672 non-null    int64  \n",
            " 20  Cmp4Accepted             672 non-null    int64  \n",
            " 21  Cmp5Accepted             672 non-null    int64  \n",
            " 22  Cmp1Accepted             672 non-null    int64  \n",
            " 23  Cmp2Accepted             672 non-null    int64  \n",
            " 24  Any_Complain             672 non-null    int64  \n",
            "dtypes: float64(1), int64(21), object(3)\n",
            "memory usage: 131.4+ KB\n"
          ]
        }
      ]
    },
    {
      "cell_type": "code",
      "metadata": {
        "colab": {
          "base_uri": "https://localhost:8080/"
        },
        "id": "HoaLHrrjr33U",
        "outputId": "0058434f-cfe2-4a9d-fdb9-64a756833528"
      },
      "source": [
        "train.isnull().sum()"
      ],
      "execution_count": null,
      "outputs": [
        {
          "output_type": "execute_result",
          "data": {
            "text/plain": [
              "Year_of_Birth               0\n",
              "Education_Level             0\n",
              "Marital_Status              0\n",
              "Disposable_Income          16\n",
              "No_of_Kids_in_home          0\n",
              "No_of_Teen_in_home          0\n",
              "Date_Customer               0\n",
              "Recency                     0\n",
              "Discounted_Purchases        0\n",
              "WebPurchases                0\n",
              "CatalogPurchases            0\n",
              "StorePurchases              0\n",
              "Amount_on_Wines             0\n",
              "Amount_on_Fruits            0\n",
              "Amount_on_MeatProducts      0\n",
              "Amount_on_FishProducts      0\n",
              "Amount_on_SweetProducts     0\n",
              "Amount_on_GoldProds         0\n",
              "WebVisitsMonth              0\n",
              "Cmp3Accepted                0\n",
              "Cmp4Accepted                0\n",
              "Cmp5Accepted                0\n",
              "Cmp1Accepted                0\n",
              "Cmp2Accepted                0\n",
              "Any_Complain                0\n",
              "Response                    0\n",
              "dtype: int64"
            ]
          },
          "metadata": {},
          "execution_count": 9
        }
      ]
    },
    {
      "cell_type": "code",
      "metadata": {
        "colab": {
          "base_uri": "https://localhost:8080/"
        },
        "id": "bLzQ1TqSr3yL",
        "outputId": "2cfe8cef-8b4d-4267-8adb-d3dc5a7a8e0e"
      },
      "source": [
        "test.isnull().sum()"
      ],
      "execution_count": null,
      "outputs": [
        {
          "output_type": "execute_result",
          "data": {
            "text/plain": [
              "Year_of_Birth              0\n",
              "Education_Level            0\n",
              "Marital_Status             0\n",
              "Disposable_Income          8\n",
              "No_of_Kids_in_home         0\n",
              "No_of_Teen_in_home         0\n",
              "Date_Customer              0\n",
              "Recency                    0\n",
              "Discounted_Purchases       0\n",
              "WebPurchases               0\n",
              "CatalogPurchases           0\n",
              "StorePurchases             0\n",
              "Amount_on_Wines            0\n",
              "Amount_on_Fruits           0\n",
              "Amount_on_MeatProducts     0\n",
              "Amount_on_FishProducts     0\n",
              "Amount_on_SweetProducts    0\n",
              "Amount_on_GoldProds        0\n",
              "WebVisitsMonth             0\n",
              "Cmp3Accepted               0\n",
              "Cmp4Accepted               0\n",
              "Cmp5Accepted               0\n",
              "Cmp1Accepted               0\n",
              "Cmp2Accepted               0\n",
              "Any_Complain               0\n",
              "dtype: int64"
            ]
          },
          "metadata": {},
          "execution_count": 10
        }
      ]
    },
    {
      "cell_type": "code",
      "metadata": {
        "id": "qdd9CYDhr3o_"
      },
      "source": [
        ""
      ],
      "execution_count": null,
      "outputs": []
    },
    {
      "cell_type": "code",
      "metadata": {
        "id": "kIxz8vNlSYUI"
      },
      "source": [
        "from lightgbm import LGBMClassifier #install this library using pip install lgbm if you don't have it \n",
        "from catboost import CatBoostClassifier #Install this Library using pip install catboost, before importing if you don't have it \n",
        "#from rgf import RGFClassifier\n",
        "from sklearn.ensemble import RandomForestClassifier, StackingClassifier, VotingClassifier\n",
        "from xgboost import XGBClassifier"
      ],
      "execution_count": null,
      "outputs": []
    },
    {
      "cell_type": "code",
      "metadata": {
        "id": "MAKz77wWSbPw"
      },
      "source": [
        "# evaluate model on data\n",
        "\n",
        "#Creating model \n",
        "cat = CatBoostClassifier(verbose=False, scale_pos_weight=5.561, random_seed=42)\n",
        "xg = XGBClassifier(scale_pos_weight=5.561)\n",
        "lg = LGBMClassifier( scale_pos_weight=5.561)\n",
        "rf =  RandomForestClassifier(n_estimators=200, random_state=42)\n",
        "\n",
        "def evaluate_model(X, y):\n",
        "    # Split data\n",
        "    X_train, X_test, y_train, y_test = train_test_split(X, y, test_size=0.2, random_state=42)\n",
        "    \n",
        "    # Catboost\n",
        "    cat.fit(X_train, y_train)\n",
        "    y_pred = cat.predict(X_test)\n",
        "    print(\"CatBoost F1 score on validation set is : \",f1_score(y_test,y_pred))\n",
        "    print('--------'*20)\n",
        "\n",
        "    # LGBM\n",
        "    lg.fit(X_train, y_train)\n",
        "    y_pred = lg.predict(X_test)\n",
        "    print(\"LGBM F1 score on validation set is : \",f1_score(y_test,y_pred))\n",
        "    print('--------'*20)\n",
        "\n",
        "    # XGBoost\n",
        "    xg.fit(X_train, y_train)\n",
        "    y_pred = xg.predict(X_test)\n",
        "    print(\"XGBoost F1 score on validation set is : \",f1_score(y_test,y_pred))\n",
        "    print('--------'*20)"
      ],
      "execution_count": null,
      "outputs": []
    },
    {
      "cell_type": "code",
      "metadata": {
        "id": "E4ZYTi44SfpQ"
      },
      "source": [
        "# Encode Categorical Values\n",
        "\n",
        "def target_encode(cols, train_data, test_data):\n",
        "    for col in cols:\n",
        "        target_enc = TargetEncoder() # Instantiate Target Encoder \n",
        "        train_data[col] =target_enc.fit_transform(train_data[col], train_data.Response) # Fit transform the encoder on your data\n",
        "        test_data[col] =  target_enc.transform(test_data[col]) \n"
      ],
      "execution_count": null,
      "outputs": []
    },
    {
      "cell_type": "code",
      "metadata": {
        "id": "cximBuA-Smxg"
      },
      "source": [
        "\n",
        "train['Year_Joined'] = pd.to_datetime(train['Date_Customer']).dt.year\n",
        "train['Month_Joined'] = pd.to_datetime(train['Date_Customer']).dt.month\n",
        "# train['Day_Joined'] = pd.to_datetime(train['Date_Customer']).dt.day_name()\n",
        "\n",
        "test['Year_Joined'] = pd.to_datetime(test['Date_Customer']).dt.year\n",
        "test['Month_Joined'] = pd.to_datetime(test['Date_Customer']).dt.month\n",
        "# test['Day_Joined'] = pd.to_datetime(test['Date_Customer']).dt.day_name()"
      ],
      "execution_count": null,
      "outputs": []
    },
    {
      "cell_type": "code",
      "metadata": {
        "id": "HW6JsfQhSrAz"
      },
      "source": [
        "train['Disposable_Income'].fillna((train['Disposable_Income'].median()) , inplace = True)\n",
        "train.drop('Date_Customer', axis=1, inplace=True)\n",
        "\n",
        "\n",
        "test['Disposable_Income'].fillna((test['Disposable_Income'].median()) , inplace = True)\n",
        "test.drop('Date_Customer', axis=1, inplace=True)"
      ],
      "execution_count": null,
      "outputs": []
    },
    {
      "cell_type": "code",
      "metadata": {
        "colab": {
          "base_uri": "https://localhost:8080/"
        },
        "id": "mlhUrKOBStzQ",
        "outputId": "2458edc3-56ab-4047-dfa2-b84980c91208"
      },
      "source": [
        "# We can separate catgorical and numerical column\n",
        "#categ_cols == categorical columns . Date column excluded\n",
        "categ_cols = train.select_dtypes(include=['object', 'category']).columns\n",
        "\n",
        "# num column == numerical columns + date column included\n",
        "num_cols = [col for col in train.columns if col not in categ_cols]\n",
        "print(f'The Categorical Columns are: {categ_cols}')\n",
        "print(f'The Numerical Columns are: {num_cols}')"
      ],
      "execution_count": null,
      "outputs": [
        {
          "output_type": "stream",
          "name": "stdout",
          "text": [
            "The Categorical Columns are: Index(['Education_Level', 'Marital_Status'], dtype='object')\n",
            "The Numerical Columns are: ['Year_of_Birth', 'Disposable_Income', 'No_of_Kids_in_home', 'No_of_Teen_in_home', 'Recency', 'Discounted_Purchases', 'WebPurchases', 'CatalogPurchases', 'StorePurchases', 'Amount_on_Wines', 'Amount_on_Fruits', 'Amount_on_MeatProducts', 'Amount_on_FishProducts', 'Amount_on_SweetProducts', 'Amount_on_GoldProds', 'WebVisitsMonth', 'Cmp3Accepted', 'Cmp4Accepted', 'Cmp5Accepted', 'Cmp1Accepted', 'Cmp2Accepted', 'Any_Complain', 'Response', 'Year_Joined', 'Month_Joined']\n"
          ]
        }
      ]
    },
    {
      "cell_type": "code",
      "metadata": {
        "id": "pWjD1rsvSxlV"
      },
      "source": [
        "# Call the function that target encodes your data \n",
        "target_encode(categ_cols,train, test)"
      ],
      "execution_count": null,
      "outputs": []
    },
    {
      "cell_type": "code",
      "metadata": {
        "id": "y4choeSjS1vZ",
        "colab": {
          "base_uri": "https://localhost:8080/"
        },
        "outputId": "3969ab1b-4d09-4d2a-95a9-849191e68359"
      },
      "source": [
        "train_copy = train.copy()\n",
        "train_copy['Customer_Year'] = 2021 - train_copy['Year_Joined'] \n",
        "train_copy['Avg_WebPurchase_per_year'] = train_copy.WebPurchases / train_copy.Customer_Year\n",
        "train_copy['Recency_weeks'] = train_copy['Recency'].apply(lambda x: x/7)\n",
        "\n",
        "y = train_copy.Response\n",
        "X = train_copy.drop(['Response'], axis=1)\n",
        "print(X.columns, X.shape)\n",
        "train_copy\n",
        "evaluate_model(X, y)\n"
      ],
      "execution_count": null,
      "outputs": [
        {
          "output_type": "stream",
          "name": "stdout",
          "text": [
            "Index(['Year_of_Birth', 'Education_Level', 'Marital_Status',\n",
            "       'Disposable_Income', 'No_of_Kids_in_home', 'No_of_Teen_in_home',\n",
            "       'Recency', 'Discounted_Purchases', 'WebPurchases', 'CatalogPurchases',\n",
            "       'StorePurchases', 'Amount_on_Wines', 'Amount_on_Fruits',\n",
            "       'Amount_on_MeatProducts', 'Amount_on_FishProducts',\n",
            "       'Amount_on_SweetProducts', 'Amount_on_GoldProds', 'WebVisitsMonth',\n",
            "       'Cmp3Accepted', 'Cmp4Accepted', 'Cmp5Accepted', 'Cmp1Accepted',\n",
            "       'Cmp2Accepted', 'Any_Complain', 'Year_Joined', 'Month_Joined',\n",
            "       'Customer_Year', 'Avg_WebPurchase_per_year', 'Recency_weeks'],\n",
            "      dtype='object') (1568, 29)\n",
            "CatBoost F1 score on validation set is :  0.5681818181818181\n",
            "----------------------------------------------------------------------------------------------------------------------------------------------------------------\n",
            "LGBM F1 score on validation set is :  0.611764705882353\n",
            "----------------------------------------------------------------------------------------------------------------------------------------------------------------\n",
            "XGBoost F1 score on validation set is :  0.5\n",
            "----------------------------------------------------------------------------------------------------------------------------------------------------------------\n"
          ]
        }
      ]
    },
    {
      "cell_type": "code",
      "metadata": {
        "id": "odmZkfPYbLgY"
      },
      "source": [
        "train_copy = train.copy() # Make a copy the train data\n",
        "train_copy['Customer_Age'] = 2021 - train_copy['Year_Joined'] \n",
        "train_copy['Avg_WebPurchase_per_year'] = train_copy.WebPurchases / train_copy.Customer_Age  \n",
        "train_copy['Recency_weeks'] = train_copy['Recency'].apply(lambda x: x/7)\n",
        "X = train_copy.drop(['Response'], axis=1)\n",
        "\n",
        "test_copy = test.copy() # Make a copy of the test data\n",
        "test_copy['Customer_Age'] = 2021 - test_copy['Year_Joined'] \n",
        "test_copy['Avg_WebPurchase_per_year'] = test_copy.WebPurchases / test_copy.Customer_Age  \n",
        "test_copy['Recency_weeks'] = test_copy['Recency'].apply(lambda x: x/7)\n"
      ],
      "execution_count": null,
      "outputs": []
    },
    {
      "cell_type": "code",
      "metadata": {
        "id": "BE0PYjfw0s6-"
      },
      "source": [
        "def stratified_cross_val(X, y, mod, test_data, splits=8, seed=42):\n",
        "    \n",
        "    skf =  StratifiedKFold(n_splits=splits, shuffle=True, random_state=seed)\n",
        "\n",
        "    scores = [] # a list to store our validation scores\n",
        "\n",
        "    preds = []  # a list to store our prediction per splits\n",
        "\n",
        "    model = mod # Instantiate your model\n",
        "\n",
        "    i = 1\n",
        "    for train, test in skf.split(X, y):\n",
        "        x_train, x_test, y_train, y_test = X.iloc[train], X.iloc[test], y.iloc[train], y.iloc[test]\n",
        "        model.fit(x_train, y_train)\n",
        "        score = f1_score(y_test, model.predict(x_test))\n",
        "        print(f'Number of splits trained : {i} \\t F1 Score:  {score}')\n",
        "        pred = model.predict_proba(test_data)[:, 1]\n",
        "        scores.append(score)\n",
        "        preds.append(pred)\n",
        "        i += 1\n",
        "\n",
        "    print('The average F1 Score: ', np.mean(scores)) # The mean of our validation scores\n",
        "\n",
        "    return preds"
      ],
      "execution_count": null,
      "outputs": []
    },
    {
      "cell_type": "code",
      "metadata": {
        "id": "HVxJwjfgT7kD",
        "colab": {
          "base_uri": "https://localhost:8080/"
        },
        "outputId": "12d244e0-1297-4d79-9b39-a24650a69969"
      },
      "source": [
        "test_copy\n",
        "preds = stratified_cross_val(X, y, cat,test_copy)\n"
      ],
      "execution_count": null,
      "outputs": [
        {
          "output_type": "stream",
          "name": "stdout",
          "text": [
            "Number of splits trained : 1 \t F1 Score:  0.5454545454545454\n",
            "Number of splits trained : 2 \t F1 Score:  0.6440677966101694\n",
            "Number of splits trained : 3 \t F1 Score:  0.6666666666666666\n",
            "Number of splits trained : 4 \t F1 Score:  0.6567164179104478\n",
            "Number of splits trained : 5 \t F1 Score:  0.6296296296296297\n",
            "Number of splits trained : 6 \t F1 Score:  0.6\n",
            "Number of splits trained : 7 \t F1 Score:  0.5970149253731343\n",
            "Number of splits trained : 8 \t F1 Score:  0.65625\n",
            "The average F1 Score:  0.6244749977055741\n"
          ]
        }
      ]
    },
    {
      "cell_type": "code",
      "metadata": {
        "id": "9jLie3ZaUJNU"
      },
      "source": [
        "preds_mean = np.mean(preds, axis=0) # The average of our predictions per row\n",
        "\n",
        "final = [] # A list to store our final predicitions\n",
        "\n",
        "\"\"\" We trained our model in a StratifiedKFold and made probability predicitions per split, to get our final prediction, we go ahead to set a threshold of 0.35, \n",
        "where if our probability value of a claim being made is greater than 0.4, our final prediction is set to 1, else it is set to 0\"\"\"\n",
        "\n",
        "for x in preds_mean:\n",
        "    if x > 0.35:\n",
        "        final.append(1)\n",
        "    else:\n",
        "        final.append(0)\n",
        "\n",
        "# Creating our submission file\n",
        "submission= pd.read_csv('SampleSubmission.csv')\n",
        "submission.Response= final\n",
        "submission.to_csv(\"final_cat35561lr\", index= False)\n",
        "# Read  your submission file and save your predictions, convert to csv file and submit"
      ],
      "execution_count": null,
      "outputs": []
    },
    {
      "cell_type": "code",
      "metadata": {
        "id": "wjvdhW8beHjL"
      },
      "source": [
        ""
      ],
      "execution_count": null,
      "outputs": []
    },
    {
      "cell_type": "code",
      "metadata": {
        "id": "PNVvETYuzqGB"
      },
      "source": [
        ""
      ],
      "execution_count": null,
      "outputs": []
    }
  ]
}